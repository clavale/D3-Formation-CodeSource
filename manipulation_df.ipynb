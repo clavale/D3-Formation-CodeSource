{
  "nbformat": 4,
  "nbformat_minor": 0,
  "metadata": {
    "colab": {
      "name": "manipulation_df.ipynb",
      "provenance": [],
      "authorship_tag": "ABX9TyNTZTNTl5y+TkvDI1+iO6lu",
      "include_colab_link": true
    },
    "kernelspec": {
      "name": "python3",
      "display_name": "Python 3"
    },
    "language_info": {
      "name": "python"
    }
  },
  "cells": [
    {
      "cell_type": "markdown",
      "metadata": {
        "id": "view-in-github",
        "colab_type": "text"
      },
      "source": [
        "<a href=\"https://colab.research.google.com/github/clavale/D3-Formation-CodeSource/blob/master/manipulation_df.ipynb\" target=\"_parent\"><img src=\"https://colab.research.google.com/assets/colab-badge.svg\" alt=\"Open In Colab\"/></a>"
      ]
    },
    {
      "cell_type": "code",
      "execution_count": 39,
      "metadata": {
        "id": "7GK5Jh-Qob9s"
      },
      "outputs": [],
      "source": [
        "import pandas as pd\n",
        "import datetime"
      ]
    },
    {
      "cell_type": "code",
      "source": [
        "print(\"date et heure actuelle: \",datetime.datetime.today())\n",
        "print(\"date en cours en formt anglais: \",datetime.datetime.today().strftime('%Y-%m-%d'))\n",
        "print(\"date en cours en format français: \",datetime.datetime.today().strftime('%d-%m-%Y'))\n",
        "print(\"année en cours: \",datetime.datetime.today().strftime('%Y'))\n",
        "print(\"mois en cours: \",datetime.datetime.today().strftime('%m'))\n",
        "print(\"jous du mois en cours: \",datetime.datetime.today().strftime('%d'))\n"
      ],
      "metadata": {
        "colab": {
          "base_uri": "https://localhost:8080/"
        },
        "id": "jP5fzLpc-cP5",
        "outputId": "6a23b152-264f-45f7-e580-4f09d38b6b95"
      },
      "execution_count": 61,
      "outputs": [
        {
          "output_type": "stream",
          "name": "stdout",
          "text": [
            "date et heure actuelle:  2022-08-15 10:24:14.786041\n",
            "date en cours en formt anglais:  2022-08-15\n",
            "date en cours en format français:  15-08-2022\n",
            "année en cours:  2022\n",
            "mois en cours:  08\n",
            "jous du mois en cours:  15\n"
          ]
        }
      ]
    },
    {
      "cell_type": "code",
      "source": [
        "year_courent=datetime.datetime.today().strftime('%Y')\n",
        "print(int(year_courent)-1994)"
      ],
      "metadata": {
        "colab": {
          "base_uri": "https://localhost:8080/"
        },
        "id": "2Cgq9HqQ9kCi",
        "outputId": "38317ae1-cb6a-409b-a6dc-2587c02ce5f9"
      },
      "execution_count": 51,
      "outputs": [
        {
          "output_type": "stream",
          "name": "stdout",
          "text": [
            "28\n"
          ]
        }
      ]
    },
    {
      "cell_type": "code",
      "source": [
        "year_courent=datetime.datetime.today().strftime('%Y') # année en cours en string\n",
        "d=pd.DataFrame({\"nom\":[\"Mbedi\",\"Monica\",\"Taty\",\"Moulin\",\"wivine\",\"Mbedin\",\"Monicia\",\"Onpy\",\"Moun\",\"Divine\",\"Mbedi\",\"Monica\",\"Taty\",\"Moulin\",\"wivine\",\"Mbedin\",\"Monicia\",\"Onpy\",\"Moun\",\"Divine\"],\n",
        "                 \"sexe\":[\"M\",\"F\",\"M\",\"F\",\"F\",\"M\",\"M\",\"M\",\"F\",\"M\",\"M\",\"F\",\"M\",\"M\",\"F\",\"M\",\"M\",\"M\",\"F\",\"M\"],\n",
        "                \"year_nais\":[1994,1992,2000,1980,1996,1990,1992,1985,1991,1976,1994,1992,2000,1980,1970,1990,1992,1985,1981,1976],\n",
        "                \"age\":[int(year_courent)-an for an in [1994,1992,2000,1980,1996,1990,1992,1985,1991,1976,1994,1992,2000,1980,1970,1990,1992,1985,1981,1976]],\n",
        "                \"diplome\":[\"licence\",\"BTS\",\"Master\",\"Ingénieur\",\"Licence\",\"licence\",\"Master\",\"Master\",\"Ingénieur\",\"Licence\",\"licence\",\"BTS\",\"Master\",\"Ingénieur\",\"Ingénieur\",\"licence\",\"BTS\",\"Master\",\"Ingénieur\",\"Licence\"],\n",
        "                \"nationalite\":[\"Française\",\"Béninoise\",\"Française\",\"Togolaise\",\"Congolaise\",\"congolaise\",\"Française\",\"Française\",\"Togolaise\",\"Congolaise\",\"Française\",\"Béninoise\",\"Française\",\"Togolaise\",\"Congolaise\",\"congolaise\",\"Française\",\"Française\",\"Togolaise\",\"Congolaise\"],\n",
        "                \"residence\":[\"Lyon\",\"Marseille\",\"PARIS\",\"Grenoble\",\"Brazza\",\"Lyon\",\"Marseille\",\"PARIS\",\"Grenoble\",\"Brazza\",\"Lyon\",\"Marseille\",\"PARIS\",\"Grenoble\",\"Brazza\",\"Lyon\",\"Marseille\",\"PARIS\",\"Grenoble\",\"Brazza\"],\n",
        "               \"statut\":[\"bon\",\"mauvais\",\"bon\",\"mauvais\",\"bon\",\"bon\",\"mauvais\",\"bon\",\"mauvais\",\"bon\",\"bon\",\"mauvais\",\"bon\",\"mauvais\",\"bon\",\"bon\",\"mauvais\",\"bon\",\"mauvais\",\"bon\"]})\n",
        "data=d.copy()"
      ],
      "metadata": {
        "id": "9mH1UGPUol-D"
      },
      "execution_count": 134,
      "outputs": []
    },
    {
      "cell_type": "code",
      "source": [
        "d.info()\n",
        "from sklearn.datasets import load_breast_cancer,load_diabetes,load_boston,load_wine,load_iris\n",
        "cancer=load_breast_cancer()\n",
        "diabete=load_diabetes()\n",
        "wine=load_wine()\n",
        "boston=load_boston()\n",
        "iris=load_iris()\n",
        "iris=load_iris()\n",
        "#features_names=iris['feature_names']\n",
        "train_data_iris=pd.DataFrame(iris.data,columns=iris[\"feature_names\"])\n",
        "target_iris=pd.DataFrame(iris.target,columns=[\"cible\"])\n",
        "data_iris=pd.concat([train_data_iris,target_iris],axis=1)\n",
        "#print(data_iris.head())"
      ],
      "metadata": {
        "colab": {
          "base_uri": "https://localhost:8080/"
        },
        "id": "kcTuTuJKcApe",
        "outputId": "28b85d3f-ff65-4a94-c649-a21d188edacf"
      },
      "execution_count": 250,
      "outputs": [
        {
          "output_type": "stream",
          "name": "stdout",
          "text": [
            "<class 'pandas.core.frame.DataFrame'>\n",
            "RangeIndex: 20 entries, 0 to 19\n",
            "Data columns (total 8 columns):\n",
            " #   Column       Non-Null Count  Dtype \n",
            "---  ------       --------------  ----- \n",
            " 0   nom          20 non-null     object\n",
            " 1   sexe         20 non-null     object\n",
            " 2   year_nais    20 non-null     int64 \n",
            " 3   age          20 non-null     int64 \n",
            " 4   diplome      20 non-null     object\n",
            " 5   nationalite  20 non-null     object\n",
            " 6   residence    20 non-null     object\n",
            " 7   statut       20 non-null     object\n",
            "dtypes: int64(2), object(6)\n",
            "memory usage: 1.4+ KB\n"
          ]
        },
        {
          "output_type": "stream",
          "name": "stderr",
          "text": [
            "/usr/local/lib/python3.7/dist-packages/sklearn/utils/deprecation.py:87: FutureWarning: Function load_boston is deprecated; `load_boston` is deprecated in 1.0 and will be removed in 1.2.\n",
            "\n",
            "    The Boston housing prices dataset has an ethical problem. You can refer to\n",
            "    the documentation of this function for further details.\n",
            "\n",
            "    The scikit-learn maintainers therefore strongly discourage the use of this\n",
            "    dataset unless the purpose of the code is to study and educate about\n",
            "    ethical issues in data science and machine learning.\n",
            "\n",
            "    In this special case, you can fetch the dataset from the original\n",
            "    source::\n",
            "\n",
            "        import pandas as pd\n",
            "        import numpy as np\n",
            "\n",
            "\n",
            "        data_url = \"http://lib.stat.cmu.edu/datasets/boston\"\n",
            "        raw_df = pd.read_csv(data_url, sep=\"\\s+\", skiprows=22, header=None)\n",
            "        data = np.hstack([raw_df.values[::2, :], raw_df.values[1::2, :2]])\n",
            "        target = raw_df.values[1::2, 2]\n",
            "\n",
            "    Alternative datasets include the California housing dataset (i.e.\n",
            "    :func:`~sklearn.datasets.fetch_california_housing`) and the Ames housing\n",
            "    dataset. You can load the datasets as follows::\n",
            "\n",
            "        from sklearn.datasets import fetch_california_housing\n",
            "        housing = fetch_california_housing()\n",
            "\n",
            "    for the California housing dataset and::\n",
            "\n",
            "        from sklearn.datasets import fetch_openml\n",
            "        housing = fetch_openml(name=\"house_prices\", as_frame=True)\n",
            "\n",
            "    for the Ames housing dataset.\n",
            "    \n",
            "  warnings.warn(msg, category=FutureWarning)\n"
          ]
        }
      ]
    },
    {
      "cell_type": "markdown",
      "source": [
        "# Nouvelle section"
      ],
      "metadata": {
        "id": "PqdRc5dotf44"
      }
    },
    {
      "cell_type": "code",
      "source": [
        "url=\"/content/titanic.csv\"\n",
        "import os\n",
        "data=pd.read_csv(\"/content/titanic.csv\",delimiter=\";\")"
      ],
      "metadata": {
        "id": "JQ3bMHbJiK8J"
      },
      "execution_count": 253,
      "outputs": []
    },
    {
      "cell_type": "code",
      "source": [
        "data.shape"
      ],
      "metadata": {
        "colab": {
          "base_uri": "https://localhost:8080/"
        },
        "id": "PfK03JKHpdAs",
        "outputId": "e1461278-b207-4f58-af2e-d9bc7ef289bc"
      },
      "execution_count": 256,
      "outputs": [
        {
          "output_type": "execute_result",
          "data": {
            "text/plain": [
              "(1309, 6)"
            ]
          },
          "metadata": {},
          "execution_count": 256
        }
      ]
    },
    {
      "cell_type": "code",
      "source": [
        "col=['sexe',\"age\",'diplome',\"nationalite\",\"residence\",'statut']\n",
        "df=d[col]\n",
        "print(df.head())"
      ],
      "metadata": {
        "colab": {
          "base_uri": "https://localhost:8080/"
        },
        "id": "RBodO-i14q_q",
        "outputId": "fdd851bd-8b6b-4244-92b0-9c6c2a29e30e"
      },
      "execution_count": 136,
      "outputs": [
        {
          "output_type": "stream",
          "name": "stdout",
          "text": [
            "  sexe  age    diplome nationalite  residence   statut\n",
            "0    M   28    licence   Française       Lyon      bon\n",
            "1    F   30        BTS   Béninoise  Marseille  mauvais\n",
            "2    M   22     Master   Française      PARIS      bon\n",
            "3    F   42  Ingénieur   Togolaise   Grenoble  mauvais\n",
            "4    F   26    Licence  Congolaise     Brazza      bon\n"
          ]
        }
      ]
    },
    {
      "cell_type": "code",
      "source": [
        "\n",
        "dummies = pd.get_dummies(d[[\"sexe\",\"diplome\",\"statut\"]])\n",
        "print(dummies.sum())\n",
        "dummies_1 = pd.get_dummies(d)\n",
        "#df_with_dummy = d[['data1']].join(dummies)\n",
        "#df_with_dummy\n",
        "print(dummies.shape)\n",
        "print(\"toute la bdd\")\n",
        "print(\"avant le one hot en encoding: \",d.shape)\n",
        "print(dummies_1.shape)"
      ],
      "metadata": {
        "colab": {
          "base_uri": "https://localhost:8080/"
        },
        "id": "HR_Z3NXi3EDY",
        "outputId": "84013944-6d76-43f3-ae9c-bf66a027b504"
      },
      "execution_count": 137,
      "outputs": [
        {
          "output_type": "stream",
          "name": "stdout",
          "text": [
            "sexe_F                7\n",
            "sexe_M               13\n",
            "diplome_BTS           3\n",
            "diplome_Ingénieur     5\n",
            "diplome_Licence       3\n",
            "diplome_Master        5\n",
            "diplome_licence       4\n",
            "statut_bon           12\n",
            "statut_mauvais        8\n",
            "dtype: int64\n",
            "(20, 9)\n",
            "toute la bdd\n",
            "avant le one hot en encoding:  (20, 8)\n",
            "(20, 31)\n"
          ]
        }
      ]
    },
    {
      "cell_type": "code",
      "source": [
        "from sklearn.linear_model import LogisticRegression \n",
        "from sklearn.model_selection import train_test_split"
      ],
      "metadata": {
        "id": "LipZdLE8GwZR"
      },
      "execution_count": 75,
      "outputs": []
    },
    {
      "cell_type": "code",
      "source": [
        "X=df.iloc[:,:df.shape[1]-1]\n",
        "X_ontHotEncoding=pd.get_dummies(X)\n",
        "y=df['statut']\n",
        "y_ontHotEncoding=pd.get_dummies(y)\n",
        "\n",
        "#xtrain,xtest,ytrain,ytest=train_test_split(X,y,test_size=0.2,random_state=3)\n",
        "\n",
        "xtrain,xtest,ytrain,ytest=train_test_split(X_ontHotEncoding,y_ontHotEncoding,test_size=0.2,stratify=y)\n",
        "print(xtrain.shape)\n",
        "print(xtest.shape)\n",
        "print(ytrain.shape)\n",
        "print(ytest.shape)\n",
        "#print(y)\n"
      ],
      "metadata": {
        "colab": {
          "base_uri": "https://localhost:8080/"
        },
        "id": "Oubc9n01HaQZ",
        "outputId": "c94ddd60-504b-4889-b1f8-1515767d2960"
      },
      "execution_count": 198,
      "outputs": [
        {
          "output_type": "stream",
          "name": "stdout",
          "text": [
            "(16, 18)\n",
            "(4, 18)\n",
            "(16, 2)\n",
            "(4, 2)\n"
          ]
        }
      ]
    },
    {
      "cell_type": "code",
      "source": [
        "import sklearn.metrics"
      ],
      "metadata": {
        "id": "3WrHGfpaOji4"
      },
      "execution_count": 114,
      "outputs": []
    },
    {
      "cell_type": "code",
      "source": [
        "lr=LogisticRegression()\n",
        "print(ytrain)"
      ],
      "metadata": {
        "colab": {
          "base_uri": "https://localhost:8080/"
        },
        "id": "F3HYnfbiHNJb",
        "outputId": "5bb7afc3-dfcf-4bb0-d927-1fbc845bad56"
      },
      "execution_count": 199,
      "outputs": [
        {
          "output_type": "stream",
          "name": "stdout",
          "text": [
            "    bon  mauvais\n",
            "5     1        0\n",
            "0     1        0\n",
            "19    1        0\n",
            "13    0        1\n",
            "14    1        0\n",
            "4     1        0\n",
            "8     0        1\n",
            "16    0        1\n",
            "10    1        0\n",
            "11    0        1\n",
            "2     1        0\n",
            "9     1        0\n",
            "7     1        0\n",
            "12    1        0\n",
            "18    0        1\n",
            "3     0        1\n"
          ]
        }
      ]
    },
    {
      "cell_type": "code",
      "source": [
        "lr.fit(xtrain,ytrain[\"mauvais\"])\n"
      ],
      "metadata": {
        "colab": {
          "base_uri": "https://localhost:8080/"
        },
        "id": "dd7-_cvBOu1s",
        "outputId": "8cff2664-ea0e-4e4e-d45e-ecf4f045f6c1"
      },
      "execution_count": 200,
      "outputs": [
        {
          "output_type": "execute_result",
          "data": {
            "text/plain": [
              "LogisticRegression()"
            ]
          },
          "metadata": {},
          "execution_count": 200
        }
      ]
    },
    {
      "cell_type": "code",
      "source": [
        "pred=lr.predict(xtest) # prediction\n",
        "print(\"prédiction: \",pred)\n",
        "ytest[\"mauvais\"]"
      ],
      "metadata": {
        "colab": {
          "base_uri": "https://localhost:8080/"
        },
        "id": "DkMCNMzbO5vR",
        "outputId": "bce34fee-7837-45cb-ab38-0d9ae0b31059"
      },
      "execution_count": 201,
      "outputs": [
        {
          "output_type": "stream",
          "name": "stdout",
          "text": [
            "prédiction:  [0 0 0 1]\n"
          ]
        },
        {
          "output_type": "execute_result",
          "data": {
            "text/plain": [
              "15    0\n",
              "6     1\n",
              "17    0\n",
              "1     1\n",
              "Name: mauvais, dtype: uint8"
            ]
          },
          "metadata": {},
          "execution_count": 201
        }
      ]
    },
    {
      "cell_type": "code",
      "source": [
        "#help(sklearn.metrics.accuracy_score)"
      ],
      "metadata": {
        "id": "vQyk-GhfTrdL"
      },
      "execution_count": 152,
      "outputs": []
    },
    {
      "cell_type": "code",
      "source": [
        "#evalusation\n",
        "import numpy as np\n",
        "mc=sklearn.metrics.confusion_matrix(pred,ytest[\"mauvais\"])\n",
        "acc=sklearn.metrics.accuracy_score(pred,ytest[\"mauvais\"])\n",
        "print(\"taux d'erreur: \",1-acc)\n",
        "print(\"acuracy: \",(mc[0,0]+mc[1,1])/mc.sum())\n",
        "print(\"---matrice de cofusion---\")\n",
        "print(mc)"
      ],
      "metadata": {
        "colab": {
          "base_uri": "https://localhost:8080/"
        },
        "id": "2-koyI3LPJVb",
        "outputId": "30f33dd7-7ada-49f7-b997-2d2c8aa1b2ea"
      },
      "execution_count": 202,
      "outputs": [
        {
          "output_type": "stream",
          "name": "stdout",
          "text": [
            "taux d'erreur:  0.25\n",
            "acuracy:  0.75\n",
            "---matrice de cofusion---\n",
            "[[2 1]\n",
            " [0 1]]\n"
          ]
        }
      ]
    },
    {
      "cell_type": "code",
      "source": [
        "import matplotlib.pyplot as plt\n",
        "from statsmodels.graphics.mosaicplot import mosaic\n",
        "mosaic(d,[\"sexe\",\"nationalite\"])\n",
        "plt.show()"
      ],
      "metadata": {
        "colab": {
          "base_uri": "https://localhost:8080/",
          "height": 275
        },
        "id": "6ksxfQVg3cYe",
        "outputId": "de4372de-7340-468c-b90a-524dce0b92e2"
      },
      "execution_count": 29,
      "outputs": [
        {
          "output_type": "display_data",
          "data": {
            "text/plain": [
              "<Figure size 432x288 with 3 Axes>"
            ],
            "image/png": "[encoded data removed]"
          },
          "metadata": {
            "needs_background": "light"
          }
        }
      ]
    },
    {
      "cell_type": "code",
      "source": [
        "# Exemple de data frame\n",
        "import pandas as pd\n",
        "data = {\"state\": [\"Ohio\", \"Ohio\", \"Ohio\", \n",
        "       \"Nevada\", \"Nevada\"],\n",
        "     \"year\": [2000, 2001, 2002, 2001, 2002],\n",
        "     \"pop\": [1.5, 1.7, 3.6, 2.4, 2.9]}\n",
        "frame = pd.DataFrame(data)\n",
        "# ordre des colonnes\n",
        "pd.DataFrame(data, columns=[\"year\", \"state\", \"pop\"])"
      ],
      "metadata": {
        "colab": {
          "base_uri": "https://localhost:8080/",
          "height": 206
        },
        "id": "GHdFaxQ9qxl9",
        "outputId": "a7d6d1b0-6074-45f4-d2ed-b6297f1fe1fc"
      },
      "execution_count": 500,
      "outputs": [
        {
          "output_type": "execute_result",
          "data": {
            "text/plain": [
              "   year   state  pop\n",
              "0  2000    Ohio  1.5\n",
              "1  2001    Ohio  1.7\n",
              "2  2002    Ohio  3.6\n",
              "3  2001  Nevada  2.4\n",
              "4  2002  Nevada  2.9"
            ],
            "text/html": [
              "\n",
              "  <div id=\"df-d36fad7c-30e6-429b-9e12-f1167eaaed64\">\n",
              "    <div class=\"colab-df-container\">\n",
              "      <div>\n",
              "<style scoped>\n",
              "    .dataframe tbody tr th:only-of-type {\n",
              "        vertical-align: middle;\n",
              "    }\n",
              "\n",
              "    .dataframe tbody tr th {\n",
              "        vertical-align: top;\n",
              "    }\n",
              "\n",
              "    .dataframe thead th {\n",
              "        text-align: right;\n",
              "    }\n",
              "</style>\n",
              "<table border=\"1\" class=\"dataframe\">\n",
              "  <thead>\n",
              "    <tr style=\"text-align: right;\">\n",
              "      <th></th>\n",
              "      <th>year</th>\n",
              "      <th>state</th>\n",
              "      <th>pop</th>\n",
              "    </tr>\n",
              "  </thead>\n",
              "  <tbody>\n",
              "    <tr>\n",
              "      <th>0</th>\n",
              "      <td>2000</td>\n",
              "      <td>Ohio</td>\n",
              "      <td>1.5</td>\n",
              "    </tr>\n",
              "    <tr>\n",
              "      <th>1</th>\n",
              "      <td>2001</td>\n",
              "      <td>Ohio</td>\n",
              "      <td>1.7</td>\n",
              "    </tr>\n",
              "    <tr>\n",
              "      <th>2</th>\n",
              "      <td>2002</td>\n",
              "      <td>Ohio</td>\n",
              "      <td>3.6</td>\n",
              "    </tr>\n",
              "    <tr>\n",
              "      <th>3</th>\n",
              "      <td>2001</td>\n",
              "      <td>Nevada</td>\n",
              "      <td>2.4</td>\n",
              "    </tr>\n",
              "    <tr>\n",
              "      <th>4</th>\n",
              "      <td>2002</td>\n",
              "      <td>Nevada</td>\n",
              "      <td>2.9</td>\n",
              "    </tr>\n",
              "  </tbody>\n",
              "</table>\n",
              "</div>\n",
              "      <button class=\"colab-df-convert\" onclick=\"convertToInteractive('df-d36fad7c-30e6-429b-9e12-f1167eaaed64')\"\n",
              "              title=\"Convert this dataframe to an interactive table.\"\n",
              "              style=\"display:none;\">\n",
              "        \n",
              "  <svg xmlns=\"http://www.w3.org/2000/svg\" height=\"24px\"viewBox=\"0 0 24 24\"\n",
              "       width=\"24px\">\n",
              "    <path d=\"M0 0h24v24H0V0z\" fill=\"none\"/>\n",
              "    <path d=\"M18.56 5.44l.94 2.06.94-2.06 2.06-.94-2.06-.94-.94-2.06-.94 2.06-2.06.94zm-11 1L8.5 8.5l.94-2.06 2.06-.94-2.06-.94L8.5 2.5l-.94 2.06-2.06.94zm10 10l.94 2.06.94-2.06 2.06-.94-2.06-.94-.94-2.06-.94 2.06-2.06.94z\"/><path d=\"M17.41 7.96l-1.37-1.37c-.4-.4-.92-.59-1.43-.59-.52 0-1.04.2-1.43.59L10.3 9.45l-7.72 7.72c-.78.78-.78 2.05 0 2.83L4 21.41c.39.39.9.59 1.41.59.51 0 1.02-.2 1.41-.59l7.78-7.78 2.81-2.81c.8-.78.8-2.07 0-2.86zM5.41 20L4 18.59l7.72-7.72 1.47 1.35L5.41 20z\"/>\n",
              "  </svg>\n",
              "      </button>\n",
              "      \n",
              "  <style>\n",
              "    .colab-df-container {\n",
              "      display:flex;\n",
              "      flex-wrap:wrap;\n",
              "      gap: 12px;\n",
              "    }\n",
              "\n",
              "    .colab-df-convert {\n",
              "      background-color: #E8F0FE;\n",
              "      border: none;\n",
              "      border-radius: 50%;\n",
              "      cursor: pointer;\n",
              "      display: none;\n",
              "      fill: #1967D2;\n",
              "      height: 32px;\n",
              "      padding: 0 0 0 0;\n",
              "      width: 32px;\n",
              "    }\n",
              "\n",
              "    .colab-df-convert:hover {\n",
              "      background-color: #E2EBFA;\n",
              "      box-shadow: 0px 1px 2px rgba(60, 64, 67, 0.3), 0px 1px 3px 1px rgba(60, 64, 67, 0.15);\n",
              "      fill: #174EA6;\n",
              "    }\n",
              "\n",
              "    [theme=dark] .colab-df-convert {\n",
              "      background-color: #3B4455;\n",
              "      fill: #D2E3FC;\n",
              "    }\n",
              "\n",
              "    [theme=dark] .colab-df-convert:hover {\n",
              "      background-color: #434B5C;\n",
              "      box-shadow: 0px 1px 3px 1px rgba(0, 0, 0, 0.15);\n",
              "      filter: drop-shadow(0px 1px 2px rgba(0, 0, 0, 0.3));\n",
              "      fill: #FFFFFF;\n",
              "    }\n",
              "  </style>\n",
              "\n",
              "      <script>\n",
              "        const buttonEl =\n",
              "          document.querySelector('#df-d36fad7c-30e6-429b-9e12-f1167eaaed64 button.colab-df-convert');\n",
              "        buttonEl.style.display =\n",
              "          google.colab.kernel.accessAllowed ? 'block' : 'none';\n",
              "\n",
              "        async function convertToInteractive(key) {\n",
              "          const element = document.querySelector('#df-d36fad7c-30e6-429b-9e12-f1167eaaed64');\n",
              "          const dataTable =\n",
              "            await google.colab.kernel.invokeFunction('convertToInteractive',\n",
              "                                                     [key], {});\n",
              "          if (!dataTable) return;\n",
              "\n",
              "          const docLinkHtml = 'Like what you see? Visit the ' +\n",
              "            '<a target=\"_blank\" href=https://colab.research.google.com/notebooks/data_table.ipynb>data table notebook</a>'\n",
              "            + ' to learn more about interactive tables.';\n",
              "          element.innerHTML = '';\n",
              "          dataTable['output_type'] = 'display_data';\n",
              "          await google.colab.output.renderOutput(dataTable, element);\n",
              "          const docLink = document.createElement('div');\n",
              "          docLink.innerHTML = docLinkHtml;\n",
              "          element.appendChild(docLink);\n",
              "        }\n",
              "      </script>\n",
              "    </div>\n",
              "  </div>\n",
              "  "
            ]
          },
          "metadata": {},
          "execution_count": 500
        }
      ]
    },
    {
      "cell_type": "code",
      "source": [
        "#help(d.drop)"
      ],
      "metadata": {
        "id": "H2Gcl10iyyMS"
      },
      "execution_count": 474,
      "outputs": []
    },
    {
      "cell_type": "code",
      "source": [
        "titanic=pd.read_csv(\"/content/titanic.csv\",delimiter=\";\")\n",
        "data_titanic=titanic.drop(columns=[\"nom\"])\n",
        "d_titanic=data_titanic.copy()\n",
        "res=str(data_titanic[['classe',\"survie\",\"sexe\"]])\n",
        "\n",
        "age_tarif=data_titanic[[\"age\",\"tarif\"]]\n",
        "#data_titanic=pd.concat([res,age_tarif],axis=1)\n",
        "#print(data_titanic.shape)\n",
        "#print(data_titanic.head())\n",
        "#X=data_titanic.drop(columns=[\"survie\"])\n",
        "#print(X.head())\n",
        "\n",
        "print(data_titanic.isnull(). values. any()) # existence des valeurs manquantes\n",
        "print(data_titanic.isnull().sum())\n",
        "#print(\"total NAN: \",data_titanic[\"age\"].isnull().sum())\n",
        "print(data_titanic.isnull().sum().nlargest(1))# colonne ayant plsu de NAN"
      ],
      "metadata": {
        "colab": {
          "base_uri": "https://localhost:8080/"
        },
        "id": "YhaFF2r3yC3N",
        "outputId": "eb240cc0-40e8-478e-f9b9-fb3cc565f31d"
      },
      "execution_count": 503,
      "outputs": [
        {
          "output_type": "stream",
          "name": "stdout",
          "text": [
            "True\n",
            "classe      0\n",
            "survie      0\n",
            "sexe        0\n",
            "age       263\n",
            "tarif       1\n",
            "dtype: int64\n",
            "age    263\n",
            "dtype: int64\n"
          ]
        }
      ]
    },
    {
      "cell_type": "code",
      "source": [
        "# traitement des NAN\n",
        "#print(titanic.head())\n"
      ],
      "metadata": {
        "id": "lAjHMcc8JCru"
      },
      "execution_count": 488,
      "outputs": []
    },
    {
      "cell_type": "code",
      "source": [
        "# convertir le type de données\n",
        "#data_titanic[['classe',\"survie\",\"sexe\"]] =data_titanic[['classe',\"survie\",\"sexe\"]].astype(object)\n",
        "data_titanic[['classe',\"sexe\"]] =data_titanic[['classe',\"sexe\"]].astype(object) # int en object\n",
        "\n",
        "\n",
        "# suppresion des NAN\n",
        "#data_titanic=data_titanic.dropna(axis=0) # suppression des lignes avec NAN\n",
        "# ou selon les colonne\n",
        "data_titanic['age'] = data_titanic['age'].fillna(method=\"ffill\")\n",
        "data_titanic['tarif'] = data_titanic['tarif'].fillna(method=\"ffill\")\n",
        "#data_titanic['age'] = data_titanic['age'].fillna(data_titanic['age'].median()) # remplacer les valeur manquantes la médiane\n",
        "'''\n",
        "data_titanic['age'] = data_titanic['age'].fillna(data_titanic['age'].mean()) \n",
        "data_titanic['sexe'] = data_titanic['sexe'].fillna(method=ffill ,inplace=True) # or method=bfill (backfil) fork fill\n",
        "data_titanic['age'] = data_titanic['age'].fillna(data_titanic['age'].mean()) \n",
        "data_titanic['tarif'] = data_titanic['tarif'].fillna(data_titanic['tarif'].mean())\n",
        "'''\n",
        "print(data_titanic.head())"
      ],
      "metadata": {
        "colab": {
          "base_uri": "https://localhost:8080/"
        },
        "id": "WVKN2sL2Enal",
        "outputId": "25aa6c4a-3ce0-4a73-90a4-6d9df8dc6ad8"
      },
      "execution_count": 505,
      "outputs": [
        {
          "output_type": "stream",
          "name": "stdout",
          "text": [
            "  classe  survie sexe   age  tarif\n",
            "0      1       1    2  29.0  211.0\n",
            "1      1       1    1   1.0  152.0\n",
            "2      1       0    2   2.0  152.0\n",
            "3      1       0    1  30.0  152.0\n",
            "4      1       0    2  25.0  152.0\n"
          ]
        }
      ]
    },
    {
      "cell_type": "code",
      "source": [
        "print(data_titanic.isnull().sum()) #vérification"
      ],
      "metadata": {
        "colab": {
          "base_uri": "https://localhost:8080/"
        },
        "id": "wf7U_x3nR5y4",
        "outputId": "eaf17762-e011-491f-9b55-b02a8a2daf16"
      },
      "execution_count": 506,
      "outputs": [
        {
          "output_type": "stream",
          "name": "stdout",
          "text": [
            "classe    0\n",
            "survie    0\n",
            "sexe      0\n",
            "age       0\n",
            "tarif     0\n",
            "dtype: int64\n"
          ]
        }
      ]
    },
    {
      "cell_type": "code",
      "source": [
        "print(\"apres suppression des NAN: \",data_titanic.info())\n",
        "print(f\"avant la suppreion des NAN: ,{titanic.info()}\")"
      ],
      "metadata": {
        "colab": {
          "base_uri": "https://localhost:8080/"
        },
        "id": "e7G0Rop90czp",
        "outputId": "5ac0cd97-17fb-442f-ded8-63e566894f1c"
      },
      "execution_count": 507,
      "outputs": [
        {
          "output_type": "stream",
          "name": "stdout",
          "text": [
            "<class 'pandas.core.frame.DataFrame'>\n",
            "RangeIndex: 1309 entries, 0 to 1308\n",
            "Data columns (total 5 columns):\n",
            " #   Column  Non-Null Count  Dtype  \n",
            "---  ------  --------------  -----  \n",
            " 0   classe  1309 non-null   object \n",
            " 1   survie  1309 non-null   int64  \n",
            " 2   sexe    1309 non-null   object \n",
            " 3   age     1309 non-null   float64\n",
            " 4   tarif   1309 non-null   float64\n",
            "dtypes: float64(2), int64(1), object(2)\n",
            "memory usage: 51.3+ KB\n",
            "apres suppression des NAN:  None\n",
            "<class 'pandas.core.frame.DataFrame'>\n",
            "RangeIndex: 1309 entries, 0 to 1308\n",
            "Data columns (total 6 columns):\n",
            " #   Column  Non-Null Count  Dtype  \n",
            "---  ------  --------------  -----  \n",
            " 0   classe  1309 non-null   int64  \n",
            " 1   survie  1309 non-null   int64  \n",
            " 2   nom     1309 non-null   object \n",
            " 3   sexe    1309 non-null   int64  \n",
            " 4   age     1046 non-null   float64\n",
            " 5   tarif   1308 non-null   float64\n",
            "dtypes: float64(2), int64(3), object(1)\n",
            "memory usage: 61.5+ KB\n",
            "avant la suppreion des NAN: ,None\n"
          ]
        }
      ]
    },
    {
      "cell_type": "code",
      "source": [
        "''' traitment de données\n",
        "from sklearn.preprocessing import Imputer\n",
        "imputer=Imputer(missing_values=\"NAN\",strategy=\"mean\",axis=0)\n",
        "x=imputer.fit(data)\n",
        "'''"
      ],
      "metadata": {
        "colab": {
          "base_uri": "https://localhost:8080/",
          "height": 53
        },
        "id": "YH-cKrhNKUU7",
        "outputId": "6badf6da-510c-4b67-a6cb-6e8e9c07e4a4"
      },
      "execution_count": 521,
      "outputs": [
        {
          "output_type": "execute_result",
          "data": {
            "text/plain": [
              "' traitment de données\\nfrom sklearn.preprocessing import Imputer\\nimputer=Imputer(missing_values=\"NAN\",strategy=\"mean\",axis=0)\\nx=imputer.fit(data)\\n'"
            ],
            "application/vnd.google.colaboratory.intrinsic+json": {
              "type": "string"
            }
          },
          "metadata": {},
          "execution_count": 521
        }
      ]
    },
    {
      "cell_type": "code",
      "source": [
        "X=data_titanic.drop(columns=[\"survie\"])\n",
        "#X=pd.concat([data_titanic[0],data_titanic[2]]\n",
        "#X_ontHotEncoding=pd.get_dummies(X)df.round(0)\n",
        "\n",
        "y=data_titanic['survie']\n",
        "\n",
        "y_ontHotEncoding=pd.get_dummies(y)\n",
        "#xtrain,xtest,ytrain,ytest=train_test_split(X,y,test_size=0.2,random_state=3)\n",
        "\n",
        "xtrain,xtest,ytrain,ytest=train_test_split(X,y,test_size=0.2,stratify=y,random_state=2)\n",
        "\n",
        "print(xtrain.shape)\n",
        "print(xtest.shape)\n",
        "print(ytrain.shape)\n",
        "print(ytest.shape)\n",
        "print(X.info())"
      ],
      "metadata": {
        "colab": {
          "base_uri": "https://localhost:8080/"
        },
        "id": "--RGVxAQuxHs",
        "outputId": "16af63ba-f3ae-49cd-d60f-41436ee71425"
      },
      "execution_count": 508,
      "outputs": [
        {
          "output_type": "stream",
          "name": "stdout",
          "text": [
            "(1047, 4)\n",
            "(262, 4)\n",
            "(1047,)\n",
            "(262,)\n",
            "<class 'pandas.core.frame.DataFrame'>\n",
            "RangeIndex: 1309 entries, 0 to 1308\n",
            "Data columns (total 4 columns):\n",
            " #   Column  Non-Null Count  Dtype  \n",
            "---  ------  --------------  -----  \n",
            " 0   classe  1309 non-null   object \n",
            " 1   sexe    1309 non-null   object \n",
            " 2   age     1309 non-null   float64\n",
            " 3   tarif   1309 non-null   float64\n",
            "dtypes: float64(2), object(2)\n",
            "memory usage: 41.0+ KB\n",
            "None\n"
          ]
        }
      ]
    },
    {
      "cell_type": "code",
      "source": [
        "model_lr=LogisticRegression()"
      ],
      "metadata": {
        "id": "M3c5jvm43qpm"
      },
      "execution_count": 509,
      "outputs": []
    },
    {
      "cell_type": "code",
      "source": [
        "model_lr.fit(xtrain,ytrain)"
      ],
      "metadata": {
        "colab": {
          "base_uri": "https://localhost:8080/"
        },
        "id": "oob6w22b33KG",
        "outputId": "c05a295c-97d5-4dda-bd71-71cd96a2096c"
      },
      "execution_count": 510,
      "outputs": [
        {
          "output_type": "execute_result",
          "data": {
            "text/plain": [
              "LogisticRegression()"
            ]
          },
          "metadata": {},
          "execution_count": 510
        }
      ]
    },
    {
      "cell_type": "code",
      "source": [
        "pred1=model_lr.predict(xtest) # prediction\n",
        "print(\"prédiction titanic: \",pred1)\n"
      ],
      "metadata": {
        "colab": {
          "base_uri": "https://localhost:8080/"
        },
        "id": "GwkRM9lxNuWX",
        "outputId": "feb1540d-de60-4a3a-f692-257c8d1ae9a1"
      },
      "execution_count": 511,
      "outputs": [
        {
          "output_type": "stream",
          "name": "stdout",
          "text": [
            "prédiction titanic:  [1 0 0 0 0 1 1 0 0 0 1 1 0 0 1 1 0 1 0 0 1 0 1 0 1 0 0 0 0 0 0 1 0 0 1 0 0\n",
            " 0 1 0 0 1 1 0 0 0 0 1 0 1 1 0 1 0 0 0 1 0 1 0 1 0 1 0 0 1 0 0 0 0 0 0 0 1\n",
            " 0 1 0 0 0 1 0 1 0 1 0 0 0 1 1 0 0 0 0 1 1 1 0 0 1 1 0 0 1 0 0 0 0 1 0 0 0\n",
            " 1 1 1 1 0 1 1 1 0 0 1 1 0 0 0 1 0 0 1 1 0 0 0 1 1 0 0 0 1 0 0 1 0 0 1 0 0\n",
            " 0 1 0 1 0 1 0 1 0 0 0 0 0 0 0 0 0 0 1 0 1 1 0 1 0 0 0 0 0 0 0 0 0 0 1 0 0\n",
            " 0 0 1 0 0 0 1 1 1 0 1 1 0 0 0 0 0 1 0 0 0 0 0 0 0 0 0 0 1 1 0 0 1 0 0 0 1\n",
            " 0 0 1 1 0 1 1 0 0 1 1 0 1 1 0 0 1 1 0 1 1 0 0 1 1 0 1 0 0 1 0 1 0 1 0 0 1\n",
            " 0 1 1]\n"
          ]
        }
      ]
    },
    {
      "cell_type": "code",
      "source": [
        "import numpy as np\n",
        "mc=sklearn.metrics.confusion_matrix(pred1,ytest)\n",
        "acc=sklearn.metrics.accuracy_score(pred1,ytest)\n",
        "print(\"titanic taux d'erreur : \",1-acc)\n",
        "print(\"titanic acuracy: \",(mc[0,0]+mc[1,1])/mc.sum())\n",
        "print(\"accuracy: \",acc)\n",
        "print(\"---titanic matrice de cofusion---\")\n",
        "print(mc)"
      ],
      "metadata": {
        "colab": {
          "base_uri": "https://localhost:8080/"
        },
        "id": "MszThdd6NuCi",
        "outputId": "b688af1a-a64a-4793-8527-2e8f8bff76e9"
      },
      "execution_count": 512,
      "outputs": [
        {
          "output_type": "stream",
          "name": "stdout",
          "text": [
            "titanic taux d'erreur :  0.2709923664122137\n",
            "titanic acuracy:  0.7290076335877863\n",
            "accuracy:  0.7290076335877863\n",
            "---titanic matrice de cofusion---\n",
            "[[128  37]\n",
            " [ 34  63]]\n"
          ]
        }
      ]
    }
  ]
}